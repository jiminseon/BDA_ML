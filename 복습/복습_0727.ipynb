{
 "cells": [
  {
   "cell_type": "code",
   "execution_count": 1,
   "id": "fef5c7d6",
   "metadata": {},
   "outputs": [],
   "source": [
    "import pandas as pd\n",
    "import seaborn as sns\n",
    "from sklearn.model_selection import train_test_split\n",
    "from sklearn.preprocessing import StandardScaler\n",
    "\n",
    "# 타이타닉 데이터셋 로드\n",
    "df = sns.load_dataset('titanic')\n"
   ]
  },
  {
   "cell_type": "markdown",
   "id": "622e23e8",
   "metadata": {},
   "source": [
    "##  train_test_split\n",
    "- 하이퍼파라미터\n",
    "    - test_size\n",
    "    - train_size\n",
    "    - radom_state\n",
    "    - shuffle =True, False 데이터 분할 전에 섞는 것\n",
    "    - statify = y 타겟변수 층화샘플링도 가능하다.\n",
    "    "
   ]
  },
  {
   "cell_type": "code",
   "execution_count": 2,
   "id": "36c47515",
   "metadata": {
    "scrolled": true
   },
   "outputs": [],
   "source": [
    "import pandas as pd\n",
    "df['sex'] = df['sex'].map({'male':0, 'female':1})\n",
    "df=pd.get_dummies(df, columns=['embarked'], drop_first=True)"
   ]
  },
  {
   "cell_type": "code",
   "execution_count": 3,
   "id": "c04e83a0",
   "metadata": {},
   "outputs": [],
   "source": [
    "# 학습데이터셋 정리\n",
    "\n",
    "X = df[['sex','age','fare','embarked_Q','embarked_S']]\n",
    "y = df['survived']"
   ]
  },
  {
   "cell_type": "code",
   "execution_count": 4,
   "id": "c5329b9d",
   "metadata": {},
   "outputs": [],
   "source": [
    "#train_test_split 나눈다.\n",
    "\n",
    "X_train, X_test, y_train, y_test=train_test_split(\n",
    "    X,y,\n",
    "    test_size= 0.2)"
   ]
  },
  {
   "cell_type": "code",
   "execution_count": 5,
   "id": "444551d3",
   "metadata": {},
   "outputs": [
    {
     "name": "stdout",
     "output_type": "stream",
     "text": [
      "     sex   age     fare  embarked_Q  embarked_S\n",
      "403    0  28.0  15.8500       False        True\n",
      "357    1  38.0  13.0000       False        True\n",
      "774    1  54.0  23.0000       False        True\n",
      "501    1  21.0   7.7500        True       False\n",
      "203    0  45.5   7.2250       False       False\n",
      "..   ...   ...      ...         ...         ...\n",
      "752    0  33.0   9.5000       False        True\n",
      "164    0   1.0  39.6875       False        True\n",
      "849    1   NaN  89.1042       False       False\n",
      "289    1  22.0   7.7500        True       False\n",
      "662    0  47.0  25.5875       False        True\n",
      "\n",
      "[712 rows x 5 columns] 403    0\n",
      "357    0\n",
      "774    1\n",
      "501    0\n",
      "203    0\n",
      "      ..\n",
      "752    0\n",
      "164    0\n",
      "849    1\n",
      "289    1\n",
      "662    0\n",
      "Name: survived, Length: 712, dtype: int64\n"
     ]
    }
   ],
   "source": [
    "print(X_train, y_train)"
   ]
  },
  {
   "cell_type": "markdown",
   "id": "50c8d91c",
   "metadata": {},
   "source": [
    "\n",
    "X_train, X_test, y_train, y_test=train_test_split(\n",
    "    X,y,\n",
    "    test_size= 0.2,\n",
    "    stratify = y)"
   ]
  },
  {
   "cell_type": "markdown",
   "id": "47a7c0aa",
   "metadata": {},
   "source": [
    "print(X_train, y_train, y_test)"
   ]
  },
  {
   "cell_type": "code",
   "execution_count": 6,
   "id": "fb10e29a",
   "metadata": {},
   "outputs": [],
   "source": [
    "#스케일링 진행\n",
    "scaler=StandardScaler()\n",
    "X_train = scaler.fit_transform(X_train)\n",
    "X_test = scaler.transform(X_test)"
   ]
  },
  {
   "cell_type": "code",
   "execution_count": 7,
   "id": "e02bbaf7",
   "metadata": {},
   "outputs": [
    {
     "name": "stdout",
     "output_type": "stream",
     "text": [
      "survived\n",
      "0    0.616162\n",
      "1    0.383838\n",
      "Name: proportion, dtype: float64\n"
     ]
    }
   ],
   "source": [
    "print(y.value_counts(normalize=True))"
   ]
  },
  {
   "cell_type": "code",
   "execution_count": 8,
   "id": "212314cd",
   "metadata": {},
   "outputs": [
    {
     "name": "stdout",
     "output_type": "stream",
     "text": [
      "survived\n",
      "0    0.623596\n",
      "1    0.376404\n",
      "Name: proportion, dtype: float64\n"
     ]
    }
   ],
   "source": [
    "print(y_train.value_counts(normalize=True))"
   ]
  },
  {
   "cell_type": "code",
   "execution_count": 9,
   "id": "1820ea3a",
   "metadata": {},
   "outputs": [
    {
     "name": "stdout",
     "output_type": "stream",
     "text": [
      "survived\n",
      "0    0.586592\n",
      "1    0.413408\n",
      "Name: proportion, dtype: float64\n"
     ]
    }
   ],
   "source": [
    "print(y_test.value_counts(normalize=True))"
   ]
  },
  {
   "cell_type": "markdown",
   "id": "f2cb7894",
   "metadata": {},
   "source": [
    "- train_test_split 데이터를 자르는 방법, 어떻게 데이터를 자르는가?"
   ]
  },
  {
   "cell_type": "markdown",
   "id": "21d65a5f",
   "metadata": {},
   "source": [
    "### 교차검증 cross_val\n",
    "- 반복적으로 교차 검증을 하는 것 위에 train_test_split 이거와 비슷하지만 다른 뜻을 의미한다."
   ]
  },
  {
   "cell_type": "code",
   "execution_count": 10,
   "id": "925ec528",
   "metadata": {},
   "outputs": [],
   "source": [
    "## 교차검증\n",
    "## k-fold Sk-fold\n",
    "from sklearn.model_selection import KFold, StratifiedKFold"
   ]
  },
  {
   "cell_type": "code",
   "execution_count": 11,
   "id": "2419ed82",
   "metadata": {},
   "outputs": [],
   "source": [
    "kf = KFold(n_splits = 5)\n",
    "skf = StratifiedKFold(n_splits = 5)"
   ]
  },
  {
   "cell_type": "code",
   "execution_count": 12,
   "id": "9e693b8f",
   "metadata": {},
   "outputs": [
    {
     "data": {
      "text/html": [
       "<div>\n",
       "<style scoped>\n",
       "    .dataframe tbody tr th:only-of-type {\n",
       "        vertical-align: middle;\n",
       "    }\n",
       "\n",
       "    .dataframe tbody tr th {\n",
       "        vertical-align: top;\n",
       "    }\n",
       "\n",
       "    .dataframe thead th {\n",
       "        text-align: right;\n",
       "    }\n",
       "</style>\n",
       "<table border=\"1\" class=\"dataframe\">\n",
       "  <thead>\n",
       "    <tr style=\"text-align: right;\">\n",
       "      <th></th>\n",
       "      <th>sex</th>\n",
       "      <th>age</th>\n",
       "      <th>fare</th>\n",
       "      <th>embarked_Q</th>\n",
       "      <th>embarked_S</th>\n",
       "    </tr>\n",
       "  </thead>\n",
       "  <tbody>\n",
       "    <tr>\n",
       "      <th>0</th>\n",
       "      <td>0</td>\n",
       "      <td>22.0</td>\n",
       "      <td>7.2500</td>\n",
       "      <td>False</td>\n",
       "      <td>True</td>\n",
       "    </tr>\n",
       "    <tr>\n",
       "      <th>1</th>\n",
       "      <td>1</td>\n",
       "      <td>38.0</td>\n",
       "      <td>71.2833</td>\n",
       "      <td>False</td>\n",
       "      <td>False</td>\n",
       "    </tr>\n",
       "    <tr>\n",
       "      <th>2</th>\n",
       "      <td>1</td>\n",
       "      <td>26.0</td>\n",
       "      <td>7.9250</td>\n",
       "      <td>False</td>\n",
       "      <td>True</td>\n",
       "    </tr>\n",
       "    <tr>\n",
       "      <th>3</th>\n",
       "      <td>1</td>\n",
       "      <td>35.0</td>\n",
       "      <td>53.1000</td>\n",
       "      <td>False</td>\n",
       "      <td>True</td>\n",
       "    </tr>\n",
       "    <tr>\n",
       "      <th>4</th>\n",
       "      <td>0</td>\n",
       "      <td>35.0</td>\n",
       "      <td>8.0500</td>\n",
       "      <td>False</td>\n",
       "      <td>True</td>\n",
       "    </tr>\n",
       "    <tr>\n",
       "      <th>...</th>\n",
       "      <td>...</td>\n",
       "      <td>...</td>\n",
       "      <td>...</td>\n",
       "      <td>...</td>\n",
       "      <td>...</td>\n",
       "    </tr>\n",
       "    <tr>\n",
       "      <th>886</th>\n",
       "      <td>0</td>\n",
       "      <td>27.0</td>\n",
       "      <td>13.0000</td>\n",
       "      <td>False</td>\n",
       "      <td>True</td>\n",
       "    </tr>\n",
       "    <tr>\n",
       "      <th>887</th>\n",
       "      <td>1</td>\n",
       "      <td>19.0</td>\n",
       "      <td>30.0000</td>\n",
       "      <td>False</td>\n",
       "      <td>True</td>\n",
       "    </tr>\n",
       "    <tr>\n",
       "      <th>888</th>\n",
       "      <td>1</td>\n",
       "      <td>NaN</td>\n",
       "      <td>23.4500</td>\n",
       "      <td>False</td>\n",
       "      <td>True</td>\n",
       "    </tr>\n",
       "    <tr>\n",
       "      <th>889</th>\n",
       "      <td>0</td>\n",
       "      <td>26.0</td>\n",
       "      <td>30.0000</td>\n",
       "      <td>False</td>\n",
       "      <td>False</td>\n",
       "    </tr>\n",
       "    <tr>\n",
       "      <th>890</th>\n",
       "      <td>0</td>\n",
       "      <td>32.0</td>\n",
       "      <td>7.7500</td>\n",
       "      <td>True</td>\n",
       "      <td>False</td>\n",
       "    </tr>\n",
       "  </tbody>\n",
       "</table>\n",
       "<p>891 rows × 5 columns</p>\n",
       "</div>"
      ],
      "text/plain": [
       "     sex   age     fare  embarked_Q  embarked_S\n",
       "0      0  22.0   7.2500       False        True\n",
       "1      1  38.0  71.2833       False       False\n",
       "2      1  26.0   7.9250       False        True\n",
       "3      1  35.0  53.1000       False        True\n",
       "4      0  35.0   8.0500       False        True\n",
       "..   ...   ...      ...         ...         ...\n",
       "886    0  27.0  13.0000       False        True\n",
       "887    1  19.0  30.0000       False        True\n",
       "888    1   NaN  23.4500       False        True\n",
       "889    0  26.0  30.0000       False       False\n",
       "890    0  32.0   7.7500        True       False\n",
       "\n",
       "[891 rows x 5 columns]"
      ]
     },
     "execution_count": 12,
     "metadata": {},
     "output_type": "execute_result"
    }
   ],
   "source": [
    "X"
   ]
  },
  {
   "cell_type": "code",
   "execution_count": 13,
   "id": "d8e8fa3b",
   "metadata": {},
   "outputs": [],
   "source": [
    "from collections import Counter\n",
    "# Kfold의 값을 넣어서 나누면 된다.\n",
    "# kf.split(X)\n",
    "kf_target_dis=[Counter(y.iloc[test_idx]) for _, test_idx in kf.split(X)]"
   ]
  },
  {
   "cell_type": "code",
   "execution_count": 14,
   "id": "ba01fb17",
   "metadata": {},
   "outputs": [],
   "source": [
    "# skf.split(X,y) 클래스값도 꼭 같이 넣어줘야 한다. \n",
    "# 클래스 값이 어떤 분포인지에 따라 비율로 나누려고 한다.\n",
    "skf_target_dis=[Counter(y.iloc[test_idx]) for _, test_idx in skf.split(X,y)] # "
   ]
  },
  {
   "cell_type": "code",
   "execution_count": 15,
   "id": "e462d57a",
   "metadata": {},
   "outputs": [
    {
     "data": {
      "text/plain": [
       "[Counter({0: 120, 1: 59}),\n",
       " Counter({0: 99, 1: 79}),\n",
       " Counter({0: 109, 1: 69}),\n",
       " Counter({0: 106, 1: 72}),\n",
       " Counter({0: 115, 1: 63})]"
      ]
     },
     "execution_count": 15,
     "metadata": {},
     "output_type": "execute_result"
    }
   ],
   "source": [
    "kf_target_dis"
   ]
  },
  {
   "cell_type": "code",
   "execution_count": 16,
   "id": "97b6b8a0",
   "metadata": {},
   "outputs": [
    {
     "data": {
      "text/plain": [
       "[Counter({0: 110, 1: 69}),\n",
       " Counter({0: 110, 1: 68}),\n",
       " Counter({0: 110, 1: 68}),\n",
       " Counter({0: 110, 1: 68}),\n",
       " Counter({0: 109, 1: 69})]"
      ]
     },
     "execution_count": 16,
     "metadata": {},
     "output_type": "execute_result"
    }
   ],
   "source": [
    "skf_target_dis"
   ]
  },
  {
   "cell_type": "code",
   "execution_count": null,
   "id": "c27d39e9",
   "metadata": {},
   "outputs": [],
   "source": []
  }
 ],
 "metadata": {
  "kernelspec": {
   "display_name": "Python 3 (ipykernel)",
   "language": "python",
   "name": "python3"
  },
  "language_info": {
   "codemirror_mode": {
    "name": "ipython",
    "version": 3
   },
   "file_extension": ".py",
   "mimetype": "text/x-python",
   "name": "python",
   "nbconvert_exporter": "python",
   "pygments_lexer": "ipython3",
   "version": "3.11.7"
  }
 },
 "nbformat": 4,
 "nbformat_minor": 5
}

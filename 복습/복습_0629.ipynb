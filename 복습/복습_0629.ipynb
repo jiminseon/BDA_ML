{
 "cells": [
  {
   "cell_type": "code",
   "execution_count": null,
   "id": "fd7be16a-e31c-4986-a380-11e3db5a159c",
   "metadata": {},
   "outputs": [],
   "source": [
    "import seaborn as sns\n",
    "import pandas as pd\n",
    "import numpy as np\n",
    "from scipy import stats\n",
    "import matplotlib.pyplot as plt\n",
    "import seaborn as sns"
   ]
  },
  {
   "cell_type": "code",
   "execution_count": null,
   "id": "de51585d-bd8e-4263-95ed-a0673952724f",
   "metadata": {},
   "outputs": [],
   "source": [
    "tt = sns.load_dataset('titanic')"
   ]
  },
  {
   "cell_type": "markdown",
   "id": "2fefd07e-0e4e-4831-b1d3-c0e23e9a13d9",
   "metadata": {},
   "source": [
    "- Z-score, IQr, MAD 방법론"
   ]
  },
  {
   "cell_type": "code",
   "execution_count": null,
   "id": "e09418ba-dbe0-4e48-86ea-8f178b435530",
   "metadata": {},
   "outputs": [],
   "source": [
    "tt"
   ]
  },
  {
   "cell_type": "markdown",
   "id": "930a964f-e68f-45c7-a909-09f4dac41a0d",
   "metadata": {},
   "source": [
    "## Z-score"
   ]
  },
  {
   "cell_type": "code",
   "execution_count": null,
   "id": "be207841-f56e-49eb-b6e9-1639ff393e09",
   "metadata": {},
   "outputs": [],
   "source": [
    "## Z-score \n",
    "#넘파이와 stats를 가지고 z-score다 계산\n",
    "z_score = np.abs(stats.zscore(tt['fare'].dropna()))\n",
    "\n",
    "# 임계값 \n",
    "# 임계값을 조절하면서 이상치가 얼마나 변하는지 확인\n",
    "threshold = 2.5 \n",
    "\n",
    "outliers_z = np.where(z_score > threshold) #이상치의 인덱스를 반환\n",
    "outliers_z_vl = tt['fare'].dropna().iloc[outliers_z]"
   ]
  },
  {
   "cell_type": "code",
   "execution_count": null,
   "id": "3f3e827f-8b14-4546-8c16-7e66f00df8a4",
   "metadata": {},
   "outputs": [],
   "source": [
    "#z_score이상치 찾는 법\n",
    "outliers_z_vl"
   ]
  },
  {
   "cell_type": "markdown",
   "id": "71ea8d4a-93c4-4b60-964b-813d79886adc",
   "metadata": {},
   "source": [
    "## iqr"
   ]
  },
  {
   "cell_type": "code",
   "execution_count": null,
   "id": "8181f8cd-b6fb-4b30-af80-f0b813fb2eb1",
   "metadata": {},
   "outputs": [],
   "source": [
    "#quantile() \n",
    "Q1 = tt['fare'].quantile(0.25)\n",
    "Q3 = tt['fare'].quantile(0.75)\n",
    "IQR = Q3 - Q1\n",
    "\n",
    "# 이상치의 기준을 정함\n",
    "lower_bound = Q1 - 1.5*IQR\n",
    "upper_bound = Q3 + 1.5*IQR\n",
    "\n",
    "# 이상치의 값들을 추출\n",
    "outlier_iqr=tt[(tt['fare'] < lower_bound) | (tt['fare'] > upper_bound)]['fare']"
   ]
  },
  {
   "cell_type": "code",
   "execution_count": null,
   "id": "6f911a2e-5449-43b5-821e-58355c6668d6",
   "metadata": {},
   "outputs": [],
   "source": [
    "upper_bound"
   ]
  },
  {
   "cell_type": "code",
   "execution_count": null,
   "id": "1c11cdcf-3a18-4cb6-9830-2fdc7ff9a399",
   "metadata": {},
   "outputs": [],
   "source": [
    "IQR"
   ]
  },
  {
   "cell_type": "code",
   "execution_count": null,
   "id": "6b1daeaa-96cc-478a-88d8-2347b8ff9ed0",
   "metadata": {},
   "outputs": [],
   "source": [
    "## MAD "
   ]
  },
  {
   "cell_type": "code",
   "execution_count": null,
   "id": "c6074a93-c4cc-44d6-bdad-ed7a08fab13c",
   "metadata": {},
   "outputs": [],
   "source": [
    "## 중앙값 잡기\n",
    "median_fare=tt['fare'].median()\n",
    "mad = np.median(np.abs(tt['fare'] - median_fare))\n",
    "\n",
    "## 임계값을 설정 3, 3.5 통상적인 값\n",
    "threshold_mad = 3\n",
    "\n",
    "mad_score = np.abs(tt['fare']-median_fare)/ mad\n",
    "outliers_mad = tt[mad_score >threshold_mad]['fare']"
   ]
  },
  {
   "cell_type": "code",
   "execution_count": null,
   "id": "fc43bbe3-8df4-4d96-b513-badbf7a84053",
   "metadata": {},
   "outputs": [],
   "source": [
    "outliers_mad"
   ]
  },
  {
   "cell_type": "markdown",
   "id": "82f8afee-3acb-485d-a1fc-9f71b38c874c",
   "metadata": {},
   "source": [
    "-  Z-score, Iqr, Mad 시각화"
   ]
  },
  {
   "cell_type": "code",
   "execution_count": null,
   "id": "47204687-ae9d-4a58-ae2e-69f72a05b7ca",
   "metadata": {},
   "outputs": [],
   "source": [
    "outliers_z_vl"
   ]
  },
  {
   "cell_type": "code",
   "execution_count": null,
   "id": "0e264a49-86e2-4767-9a25-bb02d858d1dc",
   "metadata": {},
   "outputs": [],
   "source": [
    "outlier_iqr"
   ]
  },
  {
   "cell_type": "code",
   "execution_count": null,
   "id": "9b13d3f0-2394-473f-a9d3-9bd60a1a7573",
   "metadata": {},
   "outputs": [],
   "source": [
    "outliers_mad"
   ]
  },
  {
   "cell_type": "code",
   "execution_count": null,
   "id": "782ffc3d-54f1-4c7f-8dd9-bc6ae7f9ec6a",
   "metadata": {},
   "outputs": [],
   "source": [
    "outliers_df = pd.DataFrame({'Z-score':outliers_z_vl,\n",
    "                           'IQR':outlier_iqr,\n",
    "                           'MAD':outliers_mad})"
   ]
  },
  {
   "cell_type": "code",
   "execution_count": null,
   "id": "dccca221-11ee-4401-8c7d-9acf84cadfb5",
   "metadata": {},
   "outputs": [],
   "source": []
  },
  {
   "cell_type": "code",
   "execution_count": null,
   "id": "d14f0e2b-1b1f-408b-b945-d27e18edef02",
   "metadata": {},
   "outputs": [],
   "source": []
  },
  {
   "cell_type": "code",
   "execution_count": null,
   "id": "bfe4b26d-1d07-431a-8824-01ea54eaf2ab",
   "metadata": {},
   "outputs": [],
   "source": []
  },
  {
   "cell_type": "code",
   "execution_count": null,
   "id": "eae26dbd-3b49-4bb4-b965-de730d453336",
   "metadata": {},
   "outputs": [],
   "source": []
  },
  {
   "cell_type": "code",
   "execution_count": null,
   "id": "410d0c7f-9594-44de-ac73-5e6c58f49b60",
   "metadata": {},
   "outputs": [],
   "source": []
  },
  {
   "cell_type": "code",
   "execution_count": null,
   "id": "1a440ee5-beea-4d78-944b-e60becd8af78",
   "metadata": {},
   "outputs": [],
   "source": []
  },
  {
   "cell_type": "code",
   "execution_count": null,
   "id": "e238248d-2d9a-453c-886f-bd7bca23fcb9",
   "metadata": {},
   "outputs": [],
   "source": []
  },
  {
   "cell_type": "code",
   "execution_count": null,
   "id": "acd4b364-21f4-4efc-86c6-5546cdadce22",
   "metadata": {},
   "outputs": [],
   "source": []
  }
 ],
 "metadata": {
  "kernelspec": {
   "display_name": "Python 3 (ipykernel)",
   "language": "python",
   "name": "python3"
  },
  "language_info": {
   "codemirror_mode": {
    "name": "ipython",
    "version": 3
   },
   "file_extension": ".py",
   "mimetype": "text/x-python",
   "name": "python",
   "nbconvert_exporter": "python",
   "pygments_lexer": "ipython3",
   "version": "3.11.7"
  }
 },
 "nbformat": 4,
 "nbformat_minor": 5
}
